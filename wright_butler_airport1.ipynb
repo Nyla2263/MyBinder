{
 "cells": [
  {
   "cell_type": "markdown",
   "id": "ee566a30-4c89-4d3b-8e5a-99a66c5c135a",
   "metadata": {},
   "source": [
    "# The Airports case study for Section 1 \n",
    "## Lauren Wright and Nyla Butler"
   ]
  },
  {
   "cell_type": "code",
   "execution_count": null,
   "id": "90f5e949-7b13-4541-a76c-da6dc5880341",
   "metadata": {},
   "outputs": [],
   "source": [
    "import pandas as pd\n",
    "import seaborn as sns\n",
    "import matplotlib.pyplot as plt\n",
    "from sklearn.linear_model import LinearRegression\n",
    "from sklearn.model_selection import train_test_split"
   ]
  },
  {
   "cell_type": "code",
   "execution_count": null,
   "id": "594299c4-3d3a-4d99-808d-474efe8b228d",
   "metadata": {},
   "outputs": [],
   "source": [
    "tsa_claims = pd.read_csv('tsa_claims1.csv')"
   ]
  },
  {
   "cell_type": "code",
   "execution_count": null,
   "id": "1b44286a-cdba-44b5-9f4b-d35d9a95ce1b",
   "metadata": {},
   "outputs": [],
   "source": [
    "tsa_claims.head()"
   ]
  },
  {
   "cell_type": "code",
   "execution_count": null,
   "id": "ad99a644-6c25-425f-ab8b-f4adbcaa62b1",
   "metadata": {},
   "outputs": [],
   "source": [
    "tsa_claims.nunique()"
   ]
  },
  {
   "cell_type": "code",
   "execution_count": null,
   "id": "2b201cd6-3976-4531-b3df-4d3fe1524f0e",
   "metadata": {},
   "outputs": [],
   "source": [
    "tsa_claims.info()"
   ]
  },
  {
   "cell_type": "markdown",
   "id": "fe5e3762-c332-449d-8f7a-af711aca01b8",
   "metadata": {},
   "source": [
    "## What is the most common type of insurance claim?"
   ]
  },
  {
   "cell_type": "code",
   "execution_count": null,
   "id": "e6a04b12-28d0-4cd1-9f04-fd51830aa595",
   "metadata": {},
   "outputs": [],
   "source": [
    "tsa_claims['Claim Type'].mode()"
   ]
  },
  {
   "cell_type": "code",
   "execution_count": null,
   "id": "94e5da1f-4b67-4402-9970-10d7c9abd89a",
   "metadata": {},
   "outputs": [],
   "source": [
    "claim_type_counts = tsa_claims['Claim Type'].value_counts().reset_index()\n",
    "claim_type_counts.columns = ['Claim Type', 'count']"
   ]
  },
  {
   "cell_type": "code",
   "execution_count": null,
   "id": "3b794615-c74d-4d8b-89e9-82eb2e05c875",
   "metadata": {},
   "outputs": [],
   "source": [
    "plt.figure(figsize=(10, 6))\n",
    "sns.barplot(data=claim_type_counts, x='Claim Type', y='count', palette='viridis')\n",
    "plt.title('Most Common Type of Insurance Claim')\n",
    "plt.xlabel('Claim Type')\n",
    "plt.ylabel('Number of Claims')\n",
    "plt.xticks(rotation=45)\n",
    "plt.show()"
   ]
  },
  {
   "cell_type": "markdown",
   "id": "c3d653e2-1f3b-451a-a556-44488541cdb1",
   "metadata": {},
   "source": [
    "## Which claim site within the airport are claims most commonly filed for? "
   ]
  },
  {
   "cell_type": "code",
   "execution_count": null,
   "id": "b77b108f-06e4-472b-8cef-ebf141d7fd6c",
   "metadata": {},
   "outputs": [],
   "source": [
    "claim_site_counts = tsa_claims['Claim Site'].value_counts().reset_index()\n",
    "claim_site_counts.columns = ['Claim Site', 'count']"
   ]
  },
  {
   "cell_type": "code",
   "execution_count": null,
   "id": "89b1ac43-505d-4dd3-bd82-cf2666f83174",
   "metadata": {},
   "outputs": [],
   "source": [
    "plt.figure(figsize=(10, 6))\n",
    "sns.barplot(data=claim_site_counts, x='Claim Site', y='count', palette='viridis')\n",
    "plt.title('Most Common Claim Site Within the Airport')\n",
    "plt.xlabel('Claim Site')\n",
    "plt.ylabel('Number of Claims')\n",
    "plt.xticks(rotation=45)\n",
    "plt.show()"
   ]
  },
  {
   "cell_type": "markdown",
   "id": "736ce789-7423-41de-b4e2-715e3ff6f6b8",
   "metadata": {},
   "source": [
    "## What type of claim is made most at each claim site? "
   ]
  },
  {
   "cell_type": "code",
   "execution_count": null,
   "id": "932cf33f-35bd-4949-9fe0-cebbc29331be",
   "metadata": {},
   "outputs": [],
   "source": [
    "most_common_claims = tsa_claims.groupby('Claim Site')['Claim Type'].agg(lambda x: x.mode()[0]).reset_index()"
   ]
  },
  {
   "cell_type": "code",
   "execution_count": null,
   "id": "9850e8b6-792d-4037-93e9-ed8514d1b015",
   "metadata": {},
   "outputs": [],
   "source": [
    "claim_type_site_counts = tsa_claims.groupby(['Claim Site', 'Claim Type']).size().reset_index(name='count')"
   ]
  },
  {
   "cell_type": "code",
   "execution_count": null,
   "id": "3b61ac35-ec4b-495b-8e61-5a11e6c56b68",
   "metadata": {},
   "outputs": [],
   "source": [
    "plt.figure(figsize=(10, 6))\n",
    "sns.barplot(data=claim_type_site_counts, x='Claim Site', y='count', hue='Claim Type', palette='coolwarm')\n",
    "plt.title('Type of Claims at Each Claim Site')\n",
    "plt.xlabel('Claim Site')\n",
    "plt.ylabel('Number of Claims')\n",
    "plt.xticks(rotation=45)\n",
    "plt.legend(title='Claim Type')\n",
    "plt.show()"
   ]
  },
  {
   "cell_type": "markdown",
   "id": "b5a0edff-ff52-4be1-bacf-9a06b1125eb9",
   "metadata": {},
   "source": [
    "## What is the typical claim amount? "
   ]
  },
  {
   "cell_type": "code",
   "execution_count": null,
   "id": "dc9c7268-1112-433f-9cf6-43839c059155",
   "metadata": {},
   "outputs": [],
   "source": [
    "approval_rate = tsa_claims['Claim Amount'].value_counts(normalize=True).reset_index()\n",
    "approval_rate.columns = ['Claim Amount', 'Close Amount']\n",
    "plt.figure(figsize=(6, 6))\n",
    "sns.barplot(data=approval_rate, x='Claim Amount', y='Close Amount', palette='Set2')\n",
    "plt.title('Overall Claim Approval Rate')\n",
    "plt.xlabel('Claim Amount')\n",
    "plt.ylabel('Proportion')\n",
    "plt.show()"
   ]
  },
  {
   "cell_type": "markdown",
   "id": "a0da1218-df6e-4681-98d9-d0d7f7f0c1c6",
   "metadata": {},
   "source": [
    "## What is the overall claim approval rate for the entire U.S.? "
   ]
  },
  {
   "cell_type": "code",
   "execution_count": null,
   "id": "470630fb-719d-465f-af13-3c5d6e2119d0",
   "metadata": {},
   "outputs": [],
   "source": [
    "approval_rate = tsa_claims['Status'].value_counts(normalize=True).reset_index()\n",
    "approval_rate.columns = ['approval_status', 'proportion']\n",
    "plt.figure(figsize=(13, 6))\n",
    "sns.barplot(data=approval_rate, x='approval_status', y='proportion', palette='Set2')\n",
    "plt.title('Overall Claim Approval Rate')\n",
    "plt.xlabel('Status')\n",
    "plt.ylabel('Proportion')\n",
    "plt.show()"
   ]
  },
  {
   "cell_type": "code",
   "execution_count": null,
   "id": "b0398d1f-3b4e-4238-babe-018a6e30ad4b",
   "metadata": {},
   "outputs": [],
   "source": []
  }
 ],
 "metadata": {
  "kernelspec": {
   "display_name": "Python 3 (ipykernel)",
   "language": "python",
   "name": "python3"
  },
  "language_info": {
   "codemirror_mode": {
    "name": "ipython",
    "version": 3
   },
   "file_extension": ".py",
   "mimetype": "text/x-python",
   "name": "python",
   "nbconvert_exporter": "python",
   "pygments_lexer": "ipython3",
   "version": "3.12.4"
  }
 },
 "nbformat": 4,
 "nbformat_minor": 5
}
